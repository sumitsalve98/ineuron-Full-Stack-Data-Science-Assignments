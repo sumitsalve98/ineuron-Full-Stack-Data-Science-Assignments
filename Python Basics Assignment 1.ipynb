{
 "cells": [
  {
   "cell_type": "markdown",
   "id": "2a7cd926",
   "metadata": {},
   "source": [
    "# Que 1. In the below elements which of them are values or an expression? eg:- values can be integer or string and expressions will be mathematical operators.\n",
    "\n",
    "Ans:- 1. * is an expression\n",
    "      2. 'hello' is a value\n",
    "      3. -87 is a value\n",
    "      4. - is an expression\n",
    "      5. / is an expression\n",
    "      6. + is an expression\n",
    "      7. 6 is a value\n",
    "\n",
    "\n"
   ]
  },
  {
   "cell_type": "markdown",
   "id": "0a790f7a",
   "metadata": {},
   "source": [
    "# Que 2. What is the difference between string and variable?\n",
    "\n",
    "Ans:- 1.A variable:\n",
    "\n",
    "a) A variable is something that holds a value that may change.  It can store a string, int, float, class, etc.\n",
    "      examples:-"
   ]
  },
  {
   "cell_type": "code",
   "execution_count": 7,
   "id": "64f7bcc9",
   "metadata": {},
   "outputs": [],
   "source": [
    "abc = 20"
   ]
  },
  {
   "cell_type": "code",
   "execution_count": 8,
   "id": "b517e313",
   "metadata": {},
   "outputs": [
    {
     "name": "stdout",
     "output_type": "stream",
     "text": [
      "20\n"
     ]
    }
   ],
   "source": [
    "print(abc)"
   ]
  },
  {
   "cell_type": "code",
   "execution_count": 9,
   "id": "91efb3ab",
   "metadata": {},
   "outputs": [],
   "source": [
    "abc = 30"
   ]
  },
  {
   "cell_type": "code",
   "execution_count": 10,
   "id": "88a89406",
   "metadata": {},
   "outputs": [
    {
     "name": "stdout",
     "output_type": "stream",
     "text": [
      "30\n"
     ]
    }
   ],
   "source": [
    "print(abc)"
   ]
  },
  {
   "cell_type": "markdown",
   "id": "5046db7f",
   "metadata": {},
   "source": [
    "b) This code creates a variable called abc, and assigns to it the integer number 20. When we ask Python to tell us what is stored in the variable abc, it returns that number again. \n",
    "\n",
    "c) Then, we assign the integer 20 to abc, and ask again what is stored in abc. Python has thrown away the 20, and has replaced it with 30.\n",
    "\n",
    "\n",
    "  2.A string:\n",
    "\n",
    "a) A string is simply a list of characters. A character is anything you can type on the keyboard in one keystroke, like a letter, a number, or a backslash.\n",
    "\n",
    "b) There are no limits to the number of characters you can have in a string, you can have anywhere from one to a million or more.\n",
    "\n",
    "c) There are three ways of declare a string in Python: single quotes ('), double quotes (\"), and triple quotes (\"\"\").\n",
    "  \n",
    "  examples:-\n"
   ]
  },
  {
   "cell_type": "code",
   "execution_count": 12,
   "id": "2aefc37d",
   "metadata": {},
   "outputs": [],
   "source": [
    "A = \"iNeuron\""
   ]
  },
  {
   "cell_type": "code",
   "execution_count": 13,
   "id": "6263c91e",
   "metadata": {},
   "outputs": [
    {
     "name": "stdout",
     "output_type": "stream",
     "text": [
      "iNeuron\n"
     ]
    }
   ],
   "source": [
    "print(A)"
   ]
  },
  {
   "cell_type": "code",
   "execution_count": 16,
   "id": "acf16556",
   "metadata": {},
   "outputs": [],
   "source": [
    "B = \"python Statistics ML\""
   ]
  },
  {
   "cell_type": "code",
   "execution_count": 17,
   "id": "a7412230",
   "metadata": {},
   "outputs": [
    {
     "name": "stdout",
     "output_type": "stream",
     "text": [
      "python Statistics ML\n"
     ]
    }
   ],
   "source": [
    "print(B)"
   ]
  },
  {
   "cell_type": "markdown",
   "id": "6aa7356a",
   "metadata": {},
   "source": [
    "# Que 3. Describe three different data types.\n",
    "\n",
    "Ans:- \n",
    "\n",
    "1.Numeric data type :-\n",
    "\n",
    "In Python, numeric data type represents the data that has a numeric value. The numeric value can be an integer, floating number, or complex number. These values are defined as int, float, and complex classes in Python.\n",
    "\n",
    "a) Integers – This data type is represented with the help of int class. It consists of positive or negative whole numbers without fraction or decimal. example:-\n"
   ]
  },
  {
   "cell_type": "code",
   "execution_count": 19,
   "id": "e3bc52fb",
   "metadata": {},
   "outputs": [],
   "source": [
    "a = 5"
   ]
  },
  {
   "cell_type": "code",
   "execution_count": 20,
   "id": "b0bed305",
   "metadata": {},
   "outputs": [
    {
     "data": {
      "text/plain": [
       "int"
      ]
     },
     "execution_count": 20,
     "metadata": {},
     "output_type": "execute_result"
    }
   ],
   "source": [
    "type(a)"
   ]
  },
  {
   "cell_type": "markdown",
   "id": "06edb2fa",
   "metadata": {},
   "source": [
    "b) Float – This type is represented by the float class. It is a true number with floating-point representation. It is specified by a decimal point. example:-"
   ]
  },
  {
   "cell_type": "code",
   "execution_count": 23,
   "id": "35e04f95",
   "metadata": {},
   "outputs": [],
   "source": [
    "a = 2.5"
   ]
  },
  {
   "cell_type": "code",
   "execution_count": 24,
   "id": "11528d1b",
   "metadata": {},
   "outputs": [
    {
     "data": {
      "text/plain": [
       "float"
      ]
     },
     "execution_count": 24,
     "metadata": {},
     "output_type": "execute_result"
    }
   ],
   "source": [
    "type(a)"
   ]
  },
  {
   "cell_type": "markdown",
   "id": "e410ac24",
   "metadata": {},
   "source": [
    "c) Complex Numbers – Complex numbers are represented by complex classes. It is specified as (real part) + (imaginary part)j.\n",
    "   example:-"
   ]
  },
  {
   "cell_type": "code",
   "execution_count": 25,
   "id": "4349ff40",
   "metadata": {},
   "outputs": [],
   "source": [
    "a = 10+15j"
   ]
  },
  {
   "cell_type": "code",
   "execution_count": 26,
   "id": "606757a8",
   "metadata": {},
   "outputs": [
    {
     "data": {
      "text/plain": [
       "complex"
      ]
     },
     "execution_count": 26,
     "metadata": {},
     "output_type": "execute_result"
    }
   ],
   "source": [
    "type(a)"
   ]
  },
  {
   "cell_type": "markdown",
   "id": "30dddb6a",
   "metadata": {},
   "source": [
    "2.String Data Type :-\n",
    "     \n",
    "The string is a sequence of Unicode characters. A string may be a collection of 1 or more characters put during a quotation mark, double-quote, or triple quote. It can be represented using an str class. \n",
    "example:- "
   ]
  },
  {
   "cell_type": "code",
   "execution_count": 27,
   "id": "fdfa0adb",
   "metadata": {},
   "outputs": [],
   "source": [
    "b = \"i live in mumbai\""
   ]
  },
  {
   "cell_type": "code",
   "execution_count": 28,
   "id": "6961f8bf",
   "metadata": {},
   "outputs": [
    {
     "data": {
      "text/plain": [
       "str"
      ]
     },
     "execution_count": 28,
     "metadata": {},
     "output_type": "execute_result"
    }
   ],
   "source": [
    "type(b)"
   ]
  },
  {
   "cell_type": "markdown",
   "id": "3d1b1033",
   "metadata": {},
   "source": [
    "3.Boolean Data Type :- \n",
    "\n",
    "Data type with one of the two built-in values, True or False. Boolean objects that are equal to True are truthy (true), and those equal to False are falsy (false). It is denoted by the class bool. examples:-"
   ]
  },
  {
   "cell_type": "code",
   "execution_count": 29,
   "id": "3b3183ee",
   "metadata": {},
   "outputs": [],
   "source": [
    "c = True"
   ]
  },
  {
   "cell_type": "code",
   "execution_count": 30,
   "id": "a4873d31",
   "metadata": {},
   "outputs": [
    {
     "data": {
      "text/plain": [
       "bool"
      ]
     },
     "execution_count": 30,
     "metadata": {},
     "output_type": "execute_result"
    }
   ],
   "source": [
    "type(c)"
   ]
  },
  {
   "cell_type": "code",
   "execution_count": 31,
   "id": "e4b88d68",
   "metadata": {},
   "outputs": [],
   "source": [
    "d = False"
   ]
  },
  {
   "cell_type": "code",
   "execution_count": 32,
   "id": "844f5f4a",
   "metadata": {},
   "outputs": [
    {
     "data": {
      "text/plain": [
       "bool"
      ]
     },
     "execution_count": 32,
     "metadata": {},
     "output_type": "execute_result"
    }
   ],
   "source": [
    "type(d)"
   ]
  },
  {
   "cell_type": "markdown",
   "id": "f2b74044",
   "metadata": {},
   "source": [
    "# Que 4. What is an expression made up of? What do all expressions do?\n",
    "\n",
    "Ans:- a) An expression is an instruction that combines values and operators and always evaluates down to a single value. It is a combination of values, variables, operators, and calls to functions.\n",
    "\n",
    "b) An expressions are constructed according to the syntax of the language, that evaluates to a single value. "
   ]
  },
  {
   "cell_type": "markdown",
   "id": "e719b203",
   "metadata": {},
   "source": [
    "# Que 5. This assignment statements, like spam = 10. What is the difference between an expression and a statement?\n",
    "\n",
    "Ans:- a) An Expression is a sequence or combination of values, variables, operators and function calls that always produces or returns a result value.\n",
    " \n",
    "b) A Statement is the smallest executable unit of code that has an effect, like creating a variable or displaying a value.\n",
    "Each and every line of code that we write in any programming language is called a statement.\n",
    "Because, all the lines are executable by the interpreter or the compiler of that programming language."
   ]
  },
  {
   "cell_type": "markdown",
   "id": "a7ee546e",
   "metadata": {},
   "source": [
    "# Que 6. After running the following code, what does the variable bacon contain? bacon = 22 bacon + 1"
   ]
  },
  {
   "cell_type": "code",
   "execution_count": 4,
   "id": "9f716761",
   "metadata": {},
   "outputs": [],
   "source": [
    "bacon = 22"
   ]
  },
  {
   "cell_type": "code",
   "execution_count": 5,
   "id": "619714a7",
   "metadata": {},
   "outputs": [
    {
     "data": {
      "text/plain": [
       "23"
      ]
     },
     "execution_count": 5,
     "metadata": {},
     "output_type": "execute_result"
    }
   ],
   "source": [
    "bacon + 1"
   ]
  },
  {
   "cell_type": "markdown",
   "id": "829f9596",
   "metadata": {},
   "source": [
    "23 is given as execution code "
   ]
  },
  {
   "cell_type": "markdown",
   "id": "eee2b555",
   "metadata": {},
   "source": [
    "# Que 7. What should the values of the following two terms be?\n",
    "\n",
    "'spam' + 'spamspam'\n",
    "\n",
    "'spam' * 3\n"
   ]
  },
  {
   "cell_type": "code",
   "execution_count": 6,
   "id": "e8201dd2",
   "metadata": {},
   "outputs": [
    {
     "data": {
      "text/plain": [
       "'spamspamspam'"
      ]
     },
     "execution_count": 6,
     "metadata": {},
     "output_type": "execute_result"
    }
   ],
   "source": [
    "'spam' + 'spamspam'"
   ]
  },
  {
   "cell_type": "code",
   "execution_count": 7,
   "id": "35ac44fc",
   "metadata": {},
   "outputs": [
    {
     "data": {
      "text/plain": [
       "'spamspamspam'"
      ]
     },
     "execution_count": 7,
     "metadata": {},
     "output_type": "execute_result"
    }
   ],
   "source": [
    "'spam' * 3"
   ]
  },
  {
   "cell_type": "markdown",
   "id": "b33df70d",
   "metadata": {},
   "source": [
    "values of both given terms is same. It is spamspamspam."
   ]
  },
  {
   "cell_type": "markdown",
   "id": "1f844865",
   "metadata": {},
   "source": [
    "# Que 8. Why is eggs a valid variable name while 100 is invalid?\n",
    "\n",
    "Ans:- Variable names cannot begin with a number."
   ]
  },
  {
   "cell_type": "markdown",
   "id": "ce2e4a53",
   "metadata": {},
   "source": [
    "# Que 9. What three functions can be used to get the integer, floating-point number, or string version of a value?\n",
    "\n",
    "Ans:- 1.str(), 2.int(), 3.float()"
   ]
  },
  {
   "cell_type": "markdown",
   "id": "3cc06ba4",
   "metadata": {},
   "source": [
    "# Que 10. Why does this expression cause an error? How can you fix it? 'I have eaten' + 99 + 'burritos' \n"
   ]
  },
  {
   "cell_type": "code",
   "execution_count": 3,
   "id": "b735a512",
   "metadata": {},
   "outputs": [
    {
     "ename": "TypeError",
     "evalue": "can only concatenate str (not \"int\") to str",
     "output_type": "error",
     "traceback": [
      "\u001b[1;31m---------------------------------------------------------------------------\u001b[0m",
      "\u001b[1;31mTypeError\u001b[0m                                 Traceback (most recent call last)",
      "\u001b[1;32m~\\AppData\\Local\\Temp/ipykernel_8764/1804848508.py\u001b[0m in \u001b[0;36m<module>\u001b[1;34m\u001b[0m\n\u001b[1;32m----> 1\u001b[1;33m \u001b[1;34m'I have eaten'\u001b[0m \u001b[1;33m+\u001b[0m \u001b[1;36m99\u001b[0m \u001b[1;33m+\u001b[0m \u001b[1;34m'burritos'\u001b[0m\u001b[1;33m\u001b[0m\u001b[1;33m\u001b[0m\u001b[0m\n\u001b[0m",
      "\u001b[1;31mTypeError\u001b[0m: can only concatenate str (not \"int\") to str"
     ]
    }
   ],
   "source": [
    "'I have eaten' + 99 + 'burritos' "
   ]
  },
  {
   "cell_type": "markdown",
   "id": "83b24b8c",
   "metadata": {},
   "source": [
    "This expression cause an error because strings and integer can not be concatenate. we can solve this error by converting integer 99 into string by adding \"\" around it."
   ]
  },
  {
   "cell_type": "code",
   "execution_count": 4,
   "id": "079c505b",
   "metadata": {},
   "outputs": [
    {
     "data": {
      "text/plain": [
       "'I have eaten99burritos'"
      ]
     },
     "execution_count": 4,
     "metadata": {},
     "output_type": "execute_result"
    }
   ],
   "source": [
    "'I have eaten' + \"99\" + 'burritos' "
   ]
  },
  {
   "cell_type": "code",
   "execution_count": null,
   "id": "55b527ac",
   "metadata": {},
   "outputs": [],
   "source": []
  }
 ],
 "metadata": {
  "kernelspec": {
   "display_name": "Python 3 (ipykernel)",
   "language": "python",
   "name": "python3"
  },
  "language_info": {
   "codemirror_mode": {
    "name": "ipython",
    "version": 3
   },
   "file_extension": ".py",
   "mimetype": "text/x-python",
   "name": "python",
   "nbconvert_exporter": "python",
   "pygments_lexer": "ipython3",
   "version": "3.9.7"
  }
 },
 "nbformat": 4,
 "nbformat_minor": 5
}
