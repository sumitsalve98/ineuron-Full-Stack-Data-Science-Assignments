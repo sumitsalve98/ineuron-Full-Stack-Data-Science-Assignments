{
 "cells": [
  {
   "cell_type": "markdown",
   "id": "ad214e87",
   "metadata": {},
   "source": [
    "# 1. Why are functions advantageous to have in your programs?"
   ]
  },
  {
   "cell_type": "markdown",
   "id": "c4911318",
   "metadata": {},
   "source": [
    "Ans:- \n",
    "1. They reduce work because we can use same function to write duplicated codes.\n",
    "2. Program looks more structured and clean and easier to read.\n",
    "3. program becomes shorter due to less repeatative codes and easier to find errors and debug."
   ]
  },
  {
   "cell_type": "markdown",
   "id": "a3eadb90",
   "metadata": {},
   "source": [
    "# 2. When does the code in a function run: when its specified or when its called?"
   ]
  },
  {
   "cell_type": "markdown",
   "id": "8e6db840",
   "metadata": {},
   "source": [
    "Ans:- The code in a function runs when the function is called."
   ]
  },
  {
   "cell_type": "markdown",
   "id": "41a69eeb",
   "metadata": {},
   "source": [
    "# 3. What statement creates a function?"
   ]
  },
  {
   "cell_type": "markdown",
   "id": "9ad7650e",
   "metadata": {},
   "source": [
    "Ans:- The def statement creates a function."
   ]
  },
  {
   "cell_type": "markdown",
   "id": "0b97840e",
   "metadata": {},
   "source": [
    "# 4. What is the difference between a function and a function call?"
   ]
  },
  {
   "cell_type": "markdown",
   "id": "24062ecf",
   "metadata": {},
   "source": [
    "Ans:-\n",
    "1. Function is made of def statement and code inside is in def clause.\n",
    "2. Function call is use to execute code inside of function and it will return some values depending on what code is written inside function. "
   ]
  },
  {
   "cell_type": "markdown",
   "id": "93a98676",
   "metadata": {},
   "source": [
    "# 5. How many global scopes are there in a Python program? How many local scopes?"
   ]
  },
  {
   "cell_type": "markdown",
   "id": "07ee068a",
   "metadata": {},
   "source": [
    "Ans:- There is one global scope, and a local scope that is created whenever a function is called."
   ]
  },
  {
   "cell_type": "markdown",
   "id": "11514eb2",
   "metadata": {},
   "source": [
    "# 6. What happens to variables in a local scope when the function call returns?"
   ]
  },
  {
   "cell_type": "markdown",
   "id": "e41a0b96",
   "metadata": {},
   "source": [
    "Ans:- A local variable retains its value until the next time the function is called. A local variable becomes undefined after the function call completes. The local variable can be used outside the function any time after the function call completes."
   ]
  },
  {
   "cell_type": "markdown",
   "id": "637f784a",
   "metadata": {},
   "source": [
    "# 7. What is the concept of a return value? Is it possible to have a return value in an expression?"
   ]
  },
  {
   "cell_type": "markdown",
   "id": "a48a2cf2",
   "metadata": {},
   "source": [
    "Ans:- 1. Return value is value that is evaluated when we call function after code inside it executed successfully.\n",
    "      2. Yes. It is possible to have return value inside expression."
   ]
  },
  {
   "cell_type": "markdown",
   "id": "25b7a0cd",
   "metadata": {},
   "source": [
    "# 8. If a function does not have a return statement, what is the return value of a call to that function?"
   ]
  },
  {
   "cell_type": "markdown",
   "id": "53249d35",
   "metadata": {},
   "source": [
    "Ans:- If function does not have return statement, its return value will be none."
   ]
  },
  {
   "cell_type": "markdown",
   "id": "bcbfad55",
   "metadata": {},
   "source": [
    "# 9. How do you make a function variable refer to the global variable?"
   ]
  },
  {
   "cell_type": "markdown",
   "id": "8c46edc7",
   "metadata": {},
   "source": [
    "Ans:- globle statement is used to make varables globle which are from inside of function."
   ]
  },
  {
   "cell_type": "markdown",
   "id": "a14dd3a2",
   "metadata": {},
   "source": [
    "# 10. What is the data type of None?"
   ]
  },
  {
   "cell_type": "markdown",
   "id": "3ae24e92",
   "metadata": {},
   "source": [
    "Ans:- The data type of None is NoneType."
   ]
  },
  {
   "cell_type": "markdown",
   "id": "b3426efb",
   "metadata": {},
   "source": [
    "# 11. What does the sentence import areallyourpetsnamederic do?"
   ]
  },
  {
   "cell_type": "markdown",
   "id": "5d44dbe5",
   "metadata": {},
   "source": [
    "Ans:- That statement will import module named areallyourpetsnamederic."
   ]
  },
  {
   "cell_type": "markdown",
   "id": "6df11f37",
   "metadata": {},
   "source": [
    "# 12. If you had a bacon() feature in a spam module, what would you call it after importing spam?"
   ]
  },
  {
   "cell_type": "markdown",
   "id": "eebdb632",
   "metadata": {},
   "source": [
    "Ans:- spam.bacon()"
   ]
  },
  {
   "cell_type": "markdown",
   "id": "4a4d9baf",
   "metadata": {},
   "source": [
    "# 13. What can you do to save a programme from crashing if it encounters an error?"
   ]
  },
  {
   "cell_type": "markdown",
   "id": "3fca7936",
   "metadata": {},
   "source": [
    "Ans:- 1. I will use exception handling to handle errors.\n",
    "      2. I will put that code inside of try and except clause."
   ]
  },
  {
   "cell_type": "markdown",
   "id": "92a345c7",
   "metadata": {},
   "source": [
    "# 14. What is the purpose of the try clause? What is the purpose of the except clause?"
   ]
  },
  {
   "cell_type": "markdown",
   "id": "911a797f",
   "metadata": {},
   "source": [
    "Ans:- 1. When we write code that could potentially cause errors we put it inside try clause, this code will be executed              only if there is no error.\n",
    "      2. We use except clause because whenever code inside try block fails, the code inside of except block will be                  executed."
   ]
  }
 ],
 "metadata": {
  "kernelspec": {
   "display_name": "Python 3 (ipykernel)",
   "language": "python",
   "name": "python3"
  },
  "language_info": {
   "codemirror_mode": {
    "name": "ipython",
    "version": 3
   },
   "file_extension": ".py",
   "mimetype": "text/x-python",
   "name": "python",
   "nbconvert_exporter": "python",
   "pygments_lexer": "ipython3",
   "version": "3.9.7"
  }
 },
 "nbformat": 4,
 "nbformat_minor": 5
}
