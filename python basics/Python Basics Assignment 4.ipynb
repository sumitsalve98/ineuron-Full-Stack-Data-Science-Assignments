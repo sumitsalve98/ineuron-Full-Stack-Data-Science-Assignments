{
 "cells": [
  {
   "cell_type": "markdown",
   "id": "7d0fff5f",
   "metadata": {},
   "source": [
    "# 1. What exactly is []?"
   ]
  },
  {
   "cell_type": "markdown",
   "id": "ab07a562",
   "metadata": {},
   "source": [
    "Ans:- It is an empty list"
   ]
  },
  {
   "cell_type": "markdown",
   "id": "29c08aa4",
   "metadata": {},
   "source": [
    "# 2. In a list of values stored in a variable called spam, how would you assign the value hello as the third value? (Assume [2, 4, 6, 8, 10] are in spam.)"
   ]
  },
  {
   "cell_type": "code",
   "execution_count": 2,
   "id": "4f5dbd62",
   "metadata": {},
   "outputs": [
    {
     "data": {
      "text/plain": [
       "[2, 4, 'hello', 8, 10]"
      ]
     },
     "execution_count": 2,
     "metadata": {},
     "output_type": "execute_result"
    }
   ],
   "source": [
    "spam = [2,4,6,8,10]\n",
    "spam[2] = 'hello'\n",
    "spam"
   ]
  },
  {
   "cell_type": "markdown",
   "id": "a1cd7960",
   "metadata": {},
   "source": [
    "# 3. What is the value of spam[int(int('3'* 2) / 11)]?"
   ]
  },
  {
   "cell_type": "code",
   "execution_count": 16,
   "id": "2335571c",
   "metadata": {},
   "outputs": [
    {
     "data": {
      "text/plain": [
       "[3]"
      ]
     },
     "execution_count": 16,
     "metadata": {},
     "output_type": "execute_result"
    }
   ],
   "source": [
    "spam = ['a','b','c','d']\n",
    "\n",
    "[int(int('3'*2)/11)]"
   ]
  },
  {
   "cell_type": "markdown",
   "id": "26d901a8",
   "metadata": {},
   "source": [
    "value of [int(int('3'*2)/11)] is [3]"
   ]
  },
  {
   "cell_type": "code",
   "execution_count": 17,
   "id": "d45b7200",
   "metadata": {},
   "outputs": [
    {
     "data": {
      "text/plain": [
       "'d'"
      ]
     },
     "execution_count": 17,
     "metadata": {},
     "output_type": "execute_result"
    }
   ],
   "source": [
    "spam[int(int('3'*2)/11)]"
   ]
  },
  {
   "cell_type": "markdown",
   "id": "5f1d092e",
   "metadata": {},
   "source": [
    "# 4. What is the value of spam[-1]?"
   ]
  },
  {
   "cell_type": "code",
   "execution_count": 6,
   "id": "d72535ea",
   "metadata": {},
   "outputs": [
    {
     "data": {
      "text/plain": [
       "'d'"
      ]
     },
     "execution_count": 6,
     "metadata": {},
     "output_type": "execute_result"
    }
   ],
   "source": [
    "spam[-1]"
   ]
  },
  {
   "cell_type": "markdown",
   "id": "ccab5d07",
   "metadata": {},
   "source": [
    "# 5. What is the value of spam[:2]?"
   ]
  },
  {
   "cell_type": "code",
   "execution_count": 7,
   "id": "9ac8215a",
   "metadata": {},
   "outputs": [
    {
     "data": {
      "text/plain": [
       "['a', 'b']"
      ]
     },
     "execution_count": 7,
     "metadata": {},
     "output_type": "execute_result"
    }
   ],
   "source": [
    "spam[:2]"
   ]
  },
  {
   "cell_type": "markdown",
   "id": "a57ccb4c",
   "metadata": {},
   "source": [
    "# 6. What is the value of bacon.index('cat')?"
   ]
  },
  {
   "cell_type": "code",
   "execution_count": 8,
   "id": "4eee6668",
   "metadata": {},
   "outputs": [],
   "source": [
    "bacon = [3.14 , 'cat' , 11 , 'cat' , True]"
   ]
  },
  {
   "cell_type": "code",
   "execution_count": 9,
   "id": "7e9b4125",
   "metadata": {},
   "outputs": [
    {
     "data": {
      "text/plain": [
       "1"
      ]
     },
     "execution_count": 9,
     "metadata": {},
     "output_type": "execute_result"
    }
   ],
   "source": [
    "bacon.index('cat')\n",
    "#there is an another string in the list,'cat' with an index of 3,\n",
    "#but index() function returns the first occurrence of an item.\n"
   ]
  },
  {
   "cell_type": "markdown",
   "id": "0b16ffd3",
   "metadata": {},
   "source": [
    "# 7. How does bacon.append(99) change the look of the list value in bacon?"
   ]
  },
  {
   "cell_type": "code",
   "execution_count": 14,
   "id": "4a5c53a2",
   "metadata": {},
   "outputs": [
    {
     "data": {
      "text/plain": [
       "[3.14, 'cat', 11, 'cat', True, 99]"
      ]
     },
     "execution_count": 14,
     "metadata": {},
     "output_type": "execute_result"
    }
   ],
   "source": [
    "bacon.append(99)\n",
    "bacon"
   ]
  },
  {
   "cell_type": "markdown",
   "id": "a5c5e7d2",
   "metadata": {},
   "source": [
    "It added integer 99 to the end of a list"
   ]
  },
  {
   "cell_type": "markdown",
   "id": "8232f71a",
   "metadata": {},
   "source": [
    "# 8. How does bacon.remove('cat') change the look of the list in bacon?"
   ]
  },
  {
   "cell_type": "code",
   "execution_count": 18,
   "id": "17acc622",
   "metadata": {},
   "outputs": [],
   "source": [
    "bacon.remove('cat')"
   ]
  },
  {
   "cell_type": "code",
   "execution_count": 19,
   "id": "744de531",
   "metadata": {},
   "outputs": [
    {
     "data": {
      "text/plain": [
       "[3.14, 11, 'cat', True, 99]"
      ]
     },
     "execution_count": 19,
     "metadata": {},
     "output_type": "execute_result"
    }
   ],
   "source": [
    "bacon\n",
    "# 1st occurrence of 'cat' string is removed"
   ]
  },
  {
   "cell_type": "markdown",
   "id": "6a07683c",
   "metadata": {},
   "source": [
    "# 9. What are the list concatenation and list replication operators?"
   ]
  },
  {
   "cell_type": "markdown",
   "id": "9f7b2b54",
   "metadata": {},
   "source": [
    "Ans:- + is the list concatenation operators"
   ]
  },
  {
   "cell_type": "markdown",
   "id": "51a6d836",
   "metadata": {},
   "source": [
    "# 10. What is difference between the list methods append() and insert()?"
   ]
  },
  {
   "cell_type": "markdown",
   "id": "0d158f47",
   "metadata": {},
   "source": [
    "Ans:-\n",
    "1. append() function will add input value to the end of list\n",
    "2. insert() function takes both value and index of value as a input,by which we can add values to specific location in list"
   ]
  },
  {
   "cell_type": "markdown",
   "id": "d2babda0",
   "metadata": {},
   "source": [
    "# 11. What are the two methods for removing items from a list?"
   ]
  },
  {
   "cell_type": "markdown",
   "id": "9082d34a",
   "metadata": {},
   "source": [
    "Ans:-\n",
    "1.The del statement can be used to delete an item in the list by providing index as input.\n",
    "2.The remove() list method can be used to remove an item from a list by providing the value of the item as input."
   ]
  },
  {
   "cell_type": "markdown",
   "id": "a6fc79c0",
   "metadata": {},
   "source": [
    "# 12. Describe how list values and string values are identical."
   ]
  },
  {
   "cell_type": "markdown",
   "id": "84031fab",
   "metadata": {},
   "source": [
    "Ans:-\n",
    "1.both values can be used for loops\n",
    "2.list and strings can be concatenate"
   ]
  },
  {
   "cell_type": "markdown",
   "id": "a8c0350e",
   "metadata": {},
   "source": [
    "# 13. What's the difference between tuples and lists?"
   ]
  },
  {
   "cell_type": "markdown",
   "id": "1005fd54",
   "metadata": {},
   "source": [
    "Ans:-\n",
    "1.list is mutable means we can add, remove, replace new values init.\n",
    "2.tuples are immutable we cannot change their values after creation of them."
   ]
  },
  {
   "cell_type": "markdown",
   "id": "8c55a49f",
   "metadata": {},
   "source": [
    "# 14. How do you type a tuple value that only contains the integer 42?"
   ]
  },
  {
   "cell_type": "code",
   "execution_count": 23,
   "id": "2d960a14",
   "metadata": {},
   "outputs": [
    {
     "data": {
      "text/plain": [
       "(42,)"
      ]
     },
     "execution_count": 23,
     "metadata": {},
     "output_type": "execute_result"
    }
   ],
   "source": [
    "t = (42,)\n",
    "t"
   ]
  },
  {
   "cell_type": "markdown",
   "id": "29875360",
   "metadata": {},
   "source": [
    "# 15. How do you get a list value's tuple form? How do you get a tuple values list form?"
   ]
  },
  {
   "cell_type": "markdown",
   "id": "bdec0629",
   "metadata": {},
   "source": [
    "Ans:-\n",
    "We can get a list value's tuple form by using the tuple() functions, and we can get a tuple value's list form by\n",
    "using the list() function."
   ]
  },
  {
   "cell_type": "markdown",
   "id": "325538b9",
   "metadata": {},
   "source": [
    "# 16. Variables that \"contain\" list values are not necessarily lists themselves. Instead, what do they contain?"
   ]
  },
  {
   "cell_type": "markdown",
   "id": "a444d903",
   "metadata": {},
   "source": [
    "Ans:-\n",
    "They contain references to list values, which is form of reserved memory location."
   ]
  },
  {
   "cell_type": "markdown",
   "id": "49fc3ac4",
   "metadata": {},
   "source": [
    "# 17. How do you distinguish between copy.copy() and copy.deepcopy()?"
   ]
  },
  {
   "cell_type": "markdown",
   "id": "3fc00992",
   "metadata": {},
   "source": [
    "Ans:- The copy.copy() function will do a shallow copy of a list.\n",
    "      The copy.deepcopy() function will do a deep copyof a list. \n",
    "      The copy.deepcopy() function will copy lists inside of list."
   ]
  }
 ],
 "metadata": {
  "kernelspec": {
   "display_name": "Python 3 (ipykernel)",
   "language": "python",
   "name": "python3"
  },
  "language_info": {
   "codemirror_mode": {
    "name": "ipython",
    "version": 3
   },
   "file_extension": ".py",
   "mimetype": "text/x-python",
   "name": "python",
   "nbconvert_exporter": "python",
   "pygments_lexer": "ipython3",
   "version": "3.9.7"
  }
 },
 "nbformat": 4,
 "nbformat_minor": 5
}
