{
 "cells": [
  {
   "cell_type": "markdown",
   "id": "bd90aa0a",
   "metadata": {},
   "source": [
    "# 1.What are the two values of the Boolean data type? How do you write them?\n",
    "\n",
    "Ans:- The boolean value can be of two types only i.e. either True or False.\n",
    "      When you compare two values, the expression is evaluated and Python returns the Boolean answer.\n",
    "      \n",
    "Example:-"
   ]
  },
  {
   "cell_type": "code",
   "execution_count": 2,
   "id": "11639ff7",
   "metadata": {},
   "outputs": [
    {
     "data": {
      "text/plain": [
       "True"
      ]
     },
     "execution_count": 2,
     "metadata": {},
     "output_type": "execute_result"
    }
   ],
   "source": [
    "bool(10>5) "
   ]
  },
  {
   "cell_type": "code",
   "execution_count": 3,
   "id": "ea648b9b",
   "metadata": {},
   "outputs": [
    {
     "name": "stdout",
     "output_type": "stream",
     "text": [
      "False\n"
     ]
    }
   ],
   "source": [
    "print(500 == 600)"
   ]
  },
  {
   "cell_type": "markdown",
   "id": "764aeecc",
   "metadata": {},
   "source": [
    "# 2. What are the three different types of Boolean operators?\n",
    "\n",
    "Ans:- There are three basic Boolean operators commands: and, or and not.\n",
    "      "
   ]
  },
  {
   "cell_type": "markdown",
   "id": "21c36fd8",
   "metadata": {},
   "source": [
    "# 3. Make a list of each Boolean operators truth tables (i.e. every possible combination of Boolean values for the operator and what it evaluate ).\n"
   ]
  },
  {
   "cell_type": "code",
   "execution_count": null,
   "id": "8180464c",
   "metadata": {},
   "outputs": [],
   "source": [
    "\n",
    "Ans:- \n",
    "\n",
    "\"\"\"a. Truth Table :\n",
    "\n",
    "  x           y       returns\n",
    "  \n",
    "True   ==   True       True\n",
    "False  ==   True       False\n",
    "True   ==   False      False\n",
    "False  ==   False      True\n",
    "\n",
    "b. and Truth Table :\n",
    "  \n",
    "  x     and     y     returns\n",
    "                   \n",
    "True    and    True    True\n",
    "False   and    True    False\n",
    "True    and    False   False\n",
    "False   and    False   False\n",
    "\n",
    "c. or Truth Table :\n",
    "\n",
    "  x     or     y      returns\n",
    "  \n",
    "True    or    True     True\n",
    "False   or    True     True\n",
    "True    or    False    True\n",
    "False   or    False    False\n",
    "\n",
    "d. not Truth Table :\n",
    "\n",
    "  not    x    returns\n",
    "\n",
    "  not  True    False\n",
    "  not  False   True\"\"\""
   ]
  },
  {
   "cell_type": "markdown",
   "id": "b8b7bc46",
   "metadata": {},
   "source": [
    "# 4. What are the values of the following expressions?\n",
    "\n",
    "Ans:-"
   ]
  },
  {
   "cell_type": "code",
   "execution_count": 14,
   "id": "eb271bc3",
   "metadata": {},
   "outputs": [
    {
     "data": {
      "text/plain": [
       "False"
      ]
     },
     "execution_count": 14,
     "metadata": {},
     "output_type": "execute_result"
    }
   ],
   "source": [
    "(5 > 4) and (3 == 5)"
   ]
  },
  {
   "cell_type": "code",
   "execution_count": 15,
   "id": "6bd68074",
   "metadata": {},
   "outputs": [
    {
     "data": {
      "text/plain": [
       "False"
      ]
     },
     "execution_count": 15,
     "metadata": {},
     "output_type": "execute_result"
    }
   ],
   "source": [
    "not(5 > 4)"
   ]
  },
  {
   "cell_type": "code",
   "execution_count": 16,
   "id": "7b3c2f70",
   "metadata": {},
   "outputs": [
    {
     "data": {
      "text/plain": [
       "True"
      ]
     },
     "execution_count": 16,
     "metadata": {},
     "output_type": "execute_result"
    }
   ],
   "source": [
    "(5 > 4) or (3 == 5)"
   ]
  },
  {
   "cell_type": "code",
   "execution_count": 17,
   "id": "4f389bac",
   "metadata": {},
   "outputs": [
    {
     "data": {
      "text/plain": [
       "False"
      ]
     },
     "execution_count": 17,
     "metadata": {},
     "output_type": "execute_result"
    }
   ],
   "source": [
    "not ((5 > 4) or (3 == 5))"
   ]
  },
  {
   "cell_type": "code",
   "execution_count": 18,
   "id": "663e394b",
   "metadata": {},
   "outputs": [
    {
     "data": {
      "text/plain": [
       "False"
      ]
     },
     "execution_count": 18,
     "metadata": {},
     "output_type": "execute_result"
    }
   ],
   "source": [
    "(True and True) and (True == False)"
   ]
  },
  {
   "cell_type": "code",
   "execution_count": 19,
   "id": "e3796e05",
   "metadata": {},
   "outputs": [
    {
     "data": {
      "text/plain": [
       "True"
      ]
     },
     "execution_count": 19,
     "metadata": {},
     "output_type": "execute_result"
    }
   ],
   "source": [
    "(not False) or (not True)"
   ]
  },
  {
   "cell_type": "markdown",
   "id": "7f064214",
   "metadata": {},
   "source": [
    "# 5. What are the six comparison operators? \n",
    "\n",
    "Ans:- Python has following six comparison operators:-\n",
    "\n",
    "1. less than (<) \n",
    "2. less than or equal to (<=) \n",
    "3. greater than (>) \n",
    "4. greater than or equal to (>=) \n",
    "5. equal to (==) \n",
    "6. not equal to (!=)"
   ]
  },
  {
   "cell_type": "markdown",
   "id": "3de0608b",
   "metadata": {},
   "source": [
    "# 6. How do you tell the difference between the equal to and assignment operators?Describe a condition and when you would use one.\n",
    "\n",
    "Ans:-\n",
    "a)   Assignment Operator (=) :-It is an operator in programming language which assigns the value of right side expression’s or variable’s value to the left side variable.\n",
    "\n",
    "eg:-"
   ]
  },
  {
   "cell_type": "code",
   "execution_count": 20,
   "id": "0fea4387",
   "metadata": {},
   "outputs": [
    {
     "name": "stdout",
     "output_type": "stream",
     "text": [
      "40\n"
     ]
    }
   ],
   "source": [
    "a = 40\n",
    "b = a\n",
    "print(b)"
   ]
  },
  {
   "cell_type": "markdown",
   "id": "e9556807",
   "metadata": {},
   "source": [
    "here a is variable and its value is 40. In next line of code, a is assigned to variable b so value of b becomes 40"
   ]
  },
  {
   "cell_type": "markdown",
   "id": "53543d26",
   "metadata": {},
   "source": [
    "b)   Equal To Operator (==) :- It is an Binary Operator which operates on two operands.== compares value of left and right side expressions, it return 1 if they are equal, otherwise it will return 0.\n",
    "\n",
    "eg:-"
   ]
  },
  {
   "cell_type": "code",
   "execution_count": 1,
   "id": "f0648537",
   "metadata": {},
   "outputs": [
    {
     "name": "stdout",
     "output_type": "stream",
     "text": [
      "true\n"
     ]
    }
   ],
   "source": [
    "a = 10\n",
    "b = 20\n",
    "\n",
    "if a == b:\n",
    "    print(\"false\")\n",
    "else:\n",
    "    print(\"true\")\n",
    "\n",
    "    "
   ]
  },
  {
   "cell_type": "markdown",
   "id": "9f323583",
   "metadata": {},
   "source": [
    "# 7. Identify the three blocks in this code:\n"
   ]
  },
  {
   "cell_type": "code",
   "execution_count": 5,
   "id": "961417b0",
   "metadata": {},
   "outputs": [
    {
     "name": "stdout",
     "output_type": "stream",
     "text": [
      "spam\n"
     ]
    }
   ],
   "source": [
    "spam = 0\n",
    "if spam == 10:\n",
    "    print('eggs')       #1st block\n",
    "    if spam > 5:\n",
    "        print('bacon')  #2nd block\n",
    "    else:\n",
    "        print('ham')\n",
    "    print('spam')\n",
    "print('spam')           #3rd block"
   ]
  },
  {
   "cell_type": "markdown",
   "id": "8c7c6a75",
   "metadata": {},
   "source": [
    "# 8. Write code that prints Hello if 1 is stored in spam, prints Howdy if 2 is stored in spam, and prints Greetings! if anything else is stored in spam."
   ]
  },
  {
   "cell_type": "code",
   "execution_count": 9,
   "id": "cefe73e2",
   "metadata": {},
   "outputs": [
    {
     "name": "stdout",
     "output_type": "stream",
     "text": [
      "put any integer3\n",
      "Greetings\n"
     ]
    }
   ],
   "source": [
    "spam = int(input('put any integer'))\n",
    "if spam == 1:\n",
    "    print('Hello')\n",
    "elif spam == 2:\n",
    "    print('Howdy')\n",
    "else:\n",
    "    print('Greetings')"
   ]
  },
  {
   "cell_type": "markdown",
   "id": "63e470cf",
   "metadata": {},
   "source": [
    "# 9.If your programme is stuck in an endless loop, what keys you’ll press?\n",
    "\n",
    "Ans: If my program is stuck in endless loop i will press CTRL-C to stop or interrupt the program."
   ]
  },
  {
   "cell_type": "markdown",
   "id": "02c37a54",
   "metadata": {},
   "source": [
    "# 10. How can you tell the difference between break and continue? \n",
    "Ans: break statement ends execution and breaks the loop , continue statement will restart execution of loop from beginning"
   ]
  },
  {
   "cell_type": "markdown",
   "id": "db71bd82",
   "metadata": {},
   "source": [
    "# 11. In a for loop, what is the difference between range(10), range(0, 10), and range(0, 10, 1)?\n",
    "\n",
    "Ans:- They will return the same value of 0 to 9\n",
    "    1.in range(10) it will automaticaly take lower bound 0, upper bound 10 excluding 10 and step size +1\n",
    "    2.in range(0 , 10) it is given that 0 is lower bound and 10 is upper bound. step will be +q by default\n",
    "    3.in range(0,10,1) here is given both upper and lower bound, step is also given.\n",
    " "
   ]
  },
  {
   "cell_type": "markdown",
   "id": "c20bf4c3",
   "metadata": {},
   "source": [
    "# 12. Write a short program that prints the numbers 1 to 10 using a for loop. Then write an equivalent program that prints the numbers 1 to 10 using a while loop."
   ]
  },
  {
   "cell_type": "code",
   "execution_count": 17,
   "id": "fd02f606",
   "metadata": {},
   "outputs": [
    {
     "name": "stdout",
     "output_type": "stream",
     "text": [
      "1\n",
      "2\n",
      "3\n",
      "4\n",
      "5\n",
      "6\n",
      "7\n",
      "8\n",
      "9\n",
      "10\n"
     ]
    }
   ],
   "source": [
    "for i in range(1, 11):\n",
    "    print(i)"
   ]
  },
  {
   "cell_type": "code",
   "execution_count": 18,
   "id": "a8bf28aa",
   "metadata": {},
   "outputs": [
    {
     "name": "stdout",
     "output_type": "stream",
     "text": [
      "1\n",
      "2\n",
      "3\n",
      "4\n",
      "5\n",
      "6\n",
      "7\n",
      "8\n",
      "9\n",
      "10\n"
     ]
    }
   ],
   "source": [
    "i = 1\n",
    "while i < 11:\n",
    "    print(i)\n",
    "    i +=1"
   ]
  },
  {
   "cell_type": "markdown",
   "id": "1b46bf73",
   "metadata": {},
   "source": [
    "# 13. If you had a function named bacon() inside a module named spam, how would you call it after importing spam?\n",
    "\n",
    "i will call it by command spam.bacon()"
   ]
  }
 ],
 "metadata": {
  "kernelspec": {
   "display_name": "Python 3 (ipykernel)",
   "language": "python",
   "name": "python3"
  },
  "language_info": {
   "codemirror_mode": {
    "name": "ipython",
    "version": 3
   },
   "file_extension": ".py",
   "mimetype": "text/x-python",
   "name": "python",
   "nbconvert_exporter": "python",
   "pygments_lexer": "ipython3",
   "version": "3.9.7"
  }
 },
 "nbformat": 4,
 "nbformat_minor": 5
}
